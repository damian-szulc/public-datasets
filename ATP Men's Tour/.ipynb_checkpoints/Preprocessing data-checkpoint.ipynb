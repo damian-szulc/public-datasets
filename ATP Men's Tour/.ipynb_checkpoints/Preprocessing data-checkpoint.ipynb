{
 "cells": [
  {
   "cell_type": "markdown",
   "metadata": {},
   "source": [
    "# 1. Define a problem\n",
    "\n",
    "Basing datasets avalible on http://www.tennis-data.co.uk/data.php, I will try to predict winner in a particular match."
   ]
  },
  {
   "cell_type": "markdown",
   "metadata": {},
   "source": [
    "# 2. Prepare data\n",
    "\n",
    "Raw data structure is described in RawMetaData.txt. From that I will create dataset, where each line what happened before one target event. There are following features:\n"
   ]
  },
  {
   "cell_type": "markdown",
   "metadata": {},
   "source": [
    "## Loading raw dataset"
   ]
  },
  {
   "cell_type": "code",
   "execution_count": 1,
   "metadata": {
    "collapsed": false
   },
   "outputs": [],
   "source": [
    "#loading clear_output for progress bar\n",
    "from IPython.core.display import clear_output\n",
    "#importing pandas\n",
    "import numpy as np\n",
    "import pandas as pd\n",
    "raw = pd.read_csv(\"Data/Raw.csv\",encoding = \"ISO-8859-1\", low_memory=False)"
   ]
  },
  {
   "cell_type": "markdown",
   "metadata": {},
   "source": [
    "## Data overview"
   ]
  },
  {
   "cell_type": "code",
   "execution_count": 2,
   "metadata": {
    "collapsed": false,
    "scrolled": false
   },
   "outputs": [
    {
     "name": "stdout",
     "output_type": "stream",
     "text": [
      "# of columns 25\n"
     ]
    }
   ],
   "source": [
    "#For now we are going to drop last 29 columns (betting odds data)\n",
    "raw_nr_col = len(raw.columns)\n",
    "raw.drop(raw.columns[np.arange(raw_nr_col-29,raw_nr_col)], axis=1, inplace=True)\n",
    "raw.fillna(0, inplace=True)\n",
    "#number of columns\n",
    "nr_col = len(raw.columns)\n",
    "print(\"# of columns {}\".format(nr_col))\n",
    "\n",
    "#reversing dataset\n",
    "raw=raw.iloc[::-1]\n",
    "raw.columns\n",
    "#converting Date to pandas DateTime type\n",
    "raw.Date = pd.to_datetime(raw.Date, format='%d/%m/%Y')\n",
    "intRawCol = [\"W1\", \"W2\", \"W3\", \"W4\", \"W5\", \"L1\", \"L2\", \"L3\", \"L4\", \"L5\", \"Wsets\", \"Lsets\"]\n",
    "raw[intRawCol] = raw[intRawCol].astype(int)"
   ]
  },
  {
   "cell_type": "markdown",
   "metadata": {},
   "source": [
    "## Building player dataset"
   ]
  },
  {
   "cell_type": "code",
   "execution_count": 3,
   "metadata": {
    "collapsed": false
   },
   "outputs": [],
   "source": [
    "def buildInputDataset(match, playerName, playerGames, predict = False):\n",
    "    toReturn = []\n",
    "    if not(predict):\n",
    "        toReturn.append(match.ATP)\n",
    "        toReturn.append(match.Date)\n",
    "    #player rank, at the specific match\n",
    "    rank = match.WRank if match.Winner == playerName else match.LRank\n",
    "    toReturn.append(rank)\n",
    "    \n",
    "    #type of court\n",
    "    court = 0 if match.Court == 'Indoor' else 1\n",
    "    toReturn.append(court)\n",
    "    \n",
    "    #type of Surface\n",
    "    if(match.Surface == 'Clay'): surface = 0;\n",
    "    elif(match.Surface == 'Carpet'): surface = 1;\n",
    "    elif(match.Surface == 'Grass'): surface = 2;\n",
    "    else : surface = 3;\n",
    "    toReturn.append(surface)\n",
    "    \n",
    "    #setting results for the last 5 games\n",
    "    matchDate = match.Date\n",
    "    for i in range(5):\n",
    "        #result from last i-th game\n",
    "        game = playerGames.iloc[i]\n",
    "    \n",
    "        if not(predict):\n",
    "            #match results\n",
    "            lastGameResult= 1 if game.Winner == playerName else 0\n",
    "            \n",
    "            #number od sets, number of won sets, sets difficultty\n",
    "            sets = game.Wsets + game.Lsets\n",
    "            wonSets = game.Wsets if game.Winner == playerName else game.Lsets\n",
    "            setsDiff = wonSets/sets\n",
    "            \n",
    "            #number od games, number of won games, games difficultty\n",
    "            nrOfGames = game.W1 + game.W2 +game.W3 + game.W4 + game.W5 + game.L1 + game.L2 + game.L3 + game.L4 + game.L5\n",
    "            nrOfWonGames = game.W1 + game.W2 + game.W3 + game.W4 + game.W5 if game.Winner == playerName else game.L1 + game.L2 + game.L3 + game.L4 + game.L5\n",
    "            gameDiff = nrOfWonGames / nrOfGames\n",
    "    \n",
    "        else:\n",
    "            lastGameResult = game[\"{}LastGame\".format(i+1)]\n",
    "            setsDiff = game[\"{}LastGameDiff\".format(i+1)]\n",
    "            gameDiff = game[\"{}LastGameGamesDiff\".format(i+1)]\n",
    "            nrOfGames = game[\"{}LastGameNrOfGames\".format(i+1)]\n",
    "            \n",
    "        \n",
    "        lastGameDate = game.Date\n",
    "        daysFree = matchDate - lastGameDate\n",
    "        #Agregating history\n",
    "        \n",
    "        toReturn.append(daysFree.days)\n",
    "        toReturn.append(lastGameResult)\n",
    "        toReturn.append(setsDiff)\n",
    "        toReturn.append(gameDiff)\n",
    "        toReturn.append(int(nrOfGames))\n",
    "        \n",
    "        #new refference date\n",
    "        matchDate = lastGameDate\n",
    "\n",
    "    \n",
    "    #calculating match in the tournament\n",
    "    matchYear = match.Date.year\n",
    "    Tournament = playerGames[ (playerGames['ATP'] == match.ATP) & (playerGames['Date'] >= '{}-1-1'.format(matchYear)) ]\n",
    "    matchesInTour = len(Tournament)\n",
    "    toReturn.append(matchesInTour)\n",
    "    \n",
    "    \n",
    "    #depend wheater we want to predict result or we are building playerDataset\n",
    "    if not(predict):\n",
    "        #game result -> Player win=1 lose=0\n",
    "        toReturn.append( int(1) if match.Winner == playerName else int(0))\n",
    "  \n",
    "\n",
    "    return toReturn"
   ]
  },
  {
   "cell_type": "code",
   "execution_count": 4,
   "metadata": {
    "collapsed": false
   },
   "outputs": [],
   "source": [
    "numMatchesThreshold = 20 #number of matches that player have to play if we wont to build a dataset for him\n",
    "numMatchesHistoryCollectionThreashold = 5\n",
    "\n",
    "#building dataset for specific player, based on his history\n",
    "def createPlayerDataset(playerName, data):\n",
    "    \n",
    "    #player matches\n",
    "    playerMatches = data.loc[((data.Winner == playerName) | (data.Loser == playerName))]\n",
    "     \n",
    "    #columns in new Dataset\n",
    "    columns = [\n",
    "        \"ATP\",\n",
    "        \"Date\",\n",
    "        \"Rank\", \n",
    "        \"Court\", \n",
    "        \"Surface\",\n",
    "        \n",
    "        \"DaysOffFromMatch1\",\n",
    "        \"1LastGame\", \n",
    "        \"1LastGameDiff\", \n",
    "        \"1LastGameGamesDiff\", \n",
    "        \"1LastGameNrOfGames\", \n",
    "        \n",
    "        \"DaysOffFromMatch2\",\n",
    "        \"2LastGame\", \n",
    "        \"2LastGameDiff\", \n",
    "        \"2LastGameGamesDiff\", \n",
    "        \"2LastGameNrOfGames\", \n",
    "        \n",
    "        \"DaysOffFromMatch3\",\n",
    "        \"3LastGame\", \n",
    "        \"3LastGameDiff\", \n",
    "        \"3LastGameGamesDiff\", \n",
    "        \"3LastGameNrOfGames\", \n",
    "        \n",
    "        \"DaysOffFromMatch4\",\n",
    "        \"4LastGame\", \n",
    "        \"4LastGameDiff\", \n",
    "        \"4LastGameGamesDiff\", \n",
    "        \"4LastGameNrOfGames\", \n",
    "        \n",
    "        \"DaysOffFromMatch5\",\n",
    "        \"5LastGame\",\n",
    "        \"5LastGameDiff\",\n",
    "        \"5LastGameGamesDiff\", \n",
    "        \"5LastGameNrOfGames\", \n",
    "        \n",
    "        \"MatchesInTour\",\n",
    "        \"Result\"\n",
    "    ]\n",
    "    intTypes=[\n",
    "        \"Rank\", \n",
    "        \"Court\", \n",
    "        \"Surface\",\n",
    "        \n",
    "        \"DaysOffFromMatch1\",\n",
    "        \"1LastGame\", \n",
    "        \"1LastGameNrOfGames\", \n",
    "        \n",
    "        \"DaysOffFromMatch2\",\n",
    "        \"2LastGame\", \n",
    "        \"2LastGameNrOfGames\", \n",
    "        \n",
    "        \"DaysOffFromMatch3\",\n",
    "        \"3LastGame\", \n",
    "        \"3LastGameNrOfGames\", \n",
    "        \n",
    "        \"DaysOffFromMatch4\",\n",
    "        \"4LastGame\", \n",
    "        \"4LastGameNrOfGames\", \n",
    "        \n",
    "        \"DaysOffFromMatch5\",\n",
    "        \"5LastGame\",\n",
    "        \"5LastGameNrOfGames\", \n",
    "        \n",
    "        \"MatchesInTour\",\n",
    "        \"Result\"\n",
    "        \n",
    "    ]\n",
    "    \n",
    "    playerDataset = pd.DataFrame(columns=columns)\n",
    "    playerDataset[intTypes] = playerDataset[intTypes].astype(int)\n",
    "    \n",
    "    if(len(playerMatches) <= numMatchesThreshold):\n",
    "        return False\n",
    "    \n",
    "    #building dataset for a specific player\n",
    "    while (len(playerMatches) > numMatchesHistoryCollectionThreashold):\n",
    " \n",
    "        row = playerMatches.iloc[0]\n",
    "        #build player dataset\n",
    "        data = buildInputDataset(row, playerName, playerMatches.iloc[1:])\n",
    "        \n",
    "        playerDataset.loc[ row.name ] = data\n",
    "        #pruning history\n",
    "        playerMatches = playerMatches.loc[ (row.name -1):]\n",
    "\n",
    "    \n",
    "    return playerDataset;"
   ]
  },
  {
   "cell_type": "markdown",
   "metadata": {},
   "source": [
    "### Creating players history\n",
    "Columns:\n",
    "<ol>\n",
    "<li>ATP</li>\n",
    "<li>MatchDate</li>\n",
    "<li>Player rank</li>\n",
    "<li>Type of court</li>\n",
    "<li>Type of surface</li>\n",
    "\n",
    "<li>Days off before match and last game</li>\n",
    "<li>Last game result - win=1, lose=0</li>\n",
    "<li>Last game difficulty - number of won sets / total sets</li>\n",
    "<li>Last game, games difficulty - number of won games / total games</li>\n",
    "\n",
    "<li>Days off before last game and 2nd last game</li>\n",
    "<li>2nd last game result - win=1, lose=0</li>\n",
    "<li>2nd last game difficulty - number of won sets / total sets</li>\n",
    "<li>2nd last game, games difficulty - number of won games / total games</li>\n",
    "\n",
    "<li>Days off before 2nd last game and 3rd last game</li>\n",
    "<li>3rd last game result - win=1, lose=0</li>\n",
    "<li>3rd last game difficulty - number of won sets / total sets</li>\n",
    "<li>3rd last game, games difficulty - number of won games / total games</li>\n",
    "\n",
    "<li>Days off before 3rd last game and 4th last game</li>\n",
    "<li>4th last game result - win=1, lose=0</li>\n",
    "<li>4th last game difficulty - number of won sets / total sets</li>\n",
    "<li>4th last game, games difficulty - number of won games / total games</li>\n",
    "\n",
    "<li>Days off before 4th last game and 5th last game</li>\n",
    "<li>5th last game result - win=1, lose=0</li>\n",
    "<li>5th last game difficulty - number of won sets / total sets</li>\n",
    "<li>5th last game, games difficulty - number of won games / total games</li>\n",
    "\n",
    "<li>Match in tournament - 0=1st round, 1=2 round</li>\n",
    "<li>Match result - win=1, lose=0</li>\n",
    "</ol>"
   ]
  },
  {
   "cell_type": "code",
   "execution_count": 5,
   "metadata": {
    "collapsed": false,
    "scrolled": true
   },
   "outputs": [
    {
     "name": "stdout",
     "output_type": "stream",
     "text": [
      "Progress: 100.0%\n",
      "Time=1767.7727136611938\n"
     ]
    }
   ],
   "source": [
    "#creating basing player datasets\n",
    "players= set(raw.Winner.values) | set(raw.Loser.values)\n",
    "totalPlayers = len(players)\n",
    "\n",
    "players_data = []\n",
    "refuse_players = []\n",
    "\n",
    "import time\n",
    "t1 = time.time()\n",
    "for i, player in enumerate(players):\n",
    "    #building dataset for specific player\n",
    "    playerDataset = createPlayerDataset(player, raw)\n",
    "  \n",
    "    #\n",
    "    if(type(playerDataset) != bool):\n",
    "        #saving to file\n",
    "        playerDataset.to_csv(\"Data/Players/{}csv\".format(player))\n",
    "        players_data.append(player)\n",
    "    else:\n",
    "        refuse_players.append(player)\n",
    "        \n",
    "    #clearing output and printing progress\n",
    "    clear_output()\n",
    "    progress = (i * 100.) / (totalPlayers - 1)\n",
    "    print(\"Progress: {}%\".format(progress))\n",
    "    \n",
    "t2 = time.time()\n",
    "print(\"Time=%s\" % (t2 - t1))"
   ]
  },
  {
   "cell_type": "code",
   "execution_count": 6,
   "metadata": {
    "collapsed": false,
    "scrolled": true
   },
   "outputs": [
    {
     "name": "stdout",
     "output_type": "stream",
     "text": [
      "468\n"
     ]
    }
   ],
   "source": [
    "#saving names of players for whom we have informations\n",
    "pd.Series(players_data).to_csv(\"Data/Players/PlayersList.csv\")\n",
    "pd.Series(refuse_players).to_csv(\"Data/Players/PlayersListRefused.csv\")\n",
    "\n",
    "#\n",
    "print( len(players_data) )"
   ]
  },
  {
   "cell_type": "markdown",
   "metadata": {},
   "source": [
    "## Extending player dataset of informations about oponents\n",
    "\n",
    "Here we are going to extend players datasets of informations about oponents"
   ]
  }
 ],
 "metadata": {
  "kernelspec": {
   "display_name": "Python [py3k]",
   "language": "python",
   "name": "Python [py3k]"
  },
  "language_info": {
   "codemirror_mode": {
    "name": "ipython",
    "version": 3
   },
   "file_extension": ".py",
   "mimetype": "text/x-python",
   "name": "python",
   "nbconvert_exporter": "python",
   "pygments_lexer": "ipython3",
   "version": "3.5.2"
  }
 },
 "nbformat": 4,
 "nbformat_minor": 0
}

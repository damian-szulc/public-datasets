{
 "cells": [
  {
   "cell_type": "markdown",
   "metadata": {},
   "source": [
    "# 3. Building model\n",
    "Here we are going to build model for a players that will be playing match and we want to predict results."
   ]
  },
  {
   "cell_type": "code",
   "execution_count": 1,
   "metadata": {
    "collapsed": true
   },
   "outputs": [],
   "source": [
    "import numpy as np\n",
    "import pandas as pd"
   ]
  },
  {
   "cell_type": "markdown",
   "metadata": {},
   "source": [
    "### Loading list of players"
   ]
  },
  {
   "cell_type": "code",
   "execution_count": 2,
   "metadata": {
    "collapsed": false
   },
   "outputs": [],
   "source": [
    "playersList = pd.Series.from_csv(\"Data/Players/PlayersList.csv\")"
   ]
  },
  {
   "cell_type": "markdown",
   "metadata": {},
   "source": [
    "### Loading shortened history of games"
   ]
  },
  {
   "cell_type": "code",
   "execution_count": 105,
   "metadata": {
    "collapsed": false,
    "scrolled": false
   },
   "outputs": [
    {
     "name": "stdout",
     "output_type": "stream",
     "text": [
      "# of columns 25\n"
     ]
    }
   ],
   "source": [
    "games = pd.read_csv(\"Data/Raw.csv\",encoding = \"ISO-8859-1\", low_memory=False)\n",
    "#For now we are going to drop last 29 columns (betting odds data)\n",
    "gamesNrCol = len(games.columns)\n",
    "games.drop(games.columns[np.arange(gamesNrCol-29,gamesNrCol)], axis=1, inplace=True)\n",
    "games.fillna(0, inplace=True)\n",
    "#number of columns\n",
    "gamesNrCol = len(games.columns)\n",
    "print(\"# of columns {}\".format(gamesNrCol))\n",
    "#reversing dataset\n",
    "games=games.iloc[::-1]\n",
    "games=games.iloc[:200]\n",
    "games=prepareDataset(games)\n"
   ]
  },
  {
   "cell_type": "markdown",
   "metadata": {},
   "source": [
    "## Building model for a specific player, starts with specific moment"
   ]
  },
  {
   "cell_type": "code",
   "execution_count": 104,
   "metadata": {
    "collapsed": false
   },
   "outputs": [],
   "source": [
    "from sklearn.ensemble import RandomForestClassifier, AdaBoostClassifier, ExtraTreesClassifier\n",
    "from sklearn.tree import DecisionTreeClassifier\n",
    "\n",
    "\n",
    "def playerBuildModel(player, startsWithIndex):\n",
    "    #playerDataset\n",
    "    playerDataset = pd.read_csv(\"Data/Players/{}csv\".format(player), index_col=0)\n",
    "    #limit matches only to those before specific event\n",
    "    playerDataset = prepareDataset(playerDataset)   \n",
    "    \n",
    "    playerDataset = playerDataset.loc[(startsWithIndex+1):]    \n",
    "    \n",
    "    columns = playerDataset.columns\n",
    "    print(columns)\n",
    "    #get rid of useless columns\n",
    "    \n",
    "    X = playerDataset[columns[2:-1]]\n",
    "    y = playerDataset[columns[-1]]\n",
    "    \n",
    "    clf = AdaBoostClassifier(DecisionTreeClassifier(max_depth=3),\n",
    "                         algorithm=\"SAMME\",\n",
    "                         n_estimators=200)\n",
    "    clf.fit(X,y)\n",
    "    \n",
    "    print(clf.score(X,y))\n",
    "    \n",
    "    return clf"
   ]
  },
  {
   "cell_type": "code",
   "execution_count": 102,
   "metadata": {
    "collapsed": true
   },
   "outputs": [],
   "source": [
    "def prepareDataset(dataset):\n",
    "    \n",
    "    courts = [('Indoor', 0), ('Outdoor', 1)]\n",
    "    surfaces = [('Clay', 0), ('Carpet', 1), ('Grass', 2), ('Hard', 3)]\n",
    "    \n",
    "    for court, i in courts: dataset.replace(court, i, inplace=True);\n",
    "    for surface, i in surfaces: dataset.replace(surface, i, inplace=True);\n",
    "    \n",
    "    return dataset"
   ]
  },
  {
   "cell_type": "code",
   "execution_count": null,
   "metadata": {
    "collapsed": true
   },
   "outputs": [],
   "source": [
    "def buildInputDataset(match, playerName, playerGames, predict = False):\n",
    "      \n",
    "    #player rank, at the specific match\n",
    "    rank = match.WRank if match.Winner == playerName else match.LRank\n",
    "        \n",
    "    #Agregating history\n",
    "    lastGame = playerGames.iloc[0]\n",
    "        \n",
    "    #result from last game\n",
    "    lastGameResult= 1 if lastGame.Winner == playerName else 0\n",
    "    \n",
    "    court = 0 if match.Court == 'Indoor' else 1\n",
    "    \n",
    "    if(match.Surface == 'Clay'): surface = 0;\n",
    "    else if(match.Surface == 'Carpet'): surface = 1;\n",
    "    else if(match.Surface == 'Grass'): surface = 2;\n",
    "    else : surface = 3;\n",
    "        \n",
    "    #tutaj można dodać np. dni odpoczynku, albo seria ostatnich meczy itd.\n",
    "    toReturn = [\n",
    "            rank, \n",
    "            match.Court,\n",
    "            match.Surface,\n",
    "            lastGameResult\n",
    "        ]         \n",
    "    #depend wheater we want to predict result or we are building playerDataset\n",
    "    if not(predict):\n",
    "        #game result -> Player win=1 lose=0\n",
    "        toReturn.append(result =  1 if row.Winner == playerName else 0)\n",
    "    \n",
    "    \n",
    "    return toReturn"
   ]
  },
  {
   "cell_type": "markdown",
   "metadata": {},
   "source": [
    "## Testing algorythm"
   ]
  },
  {
   "cell_type": "code",
   "execution_count": 103,
   "metadata": {
    "collapsed": false
   },
   "outputs": [
    {
     "name": "stdout",
     "output_type": "stream",
     "text": [
      "Index(['Opponent', 'Date', 'Rank', 'Court', 'Surface', 'LastGame', 'Result'], dtype='object')\n",
      "0.723404255319\n",
      "Index(['Opponent', 'Date', 'Rank', 'Court', 'Surface', 'LastGame', 'Result'], dtype='object')\n",
      "0.703125\n"
     ]
    }
   ],
   "source": [
    "nrMatches = 50\n",
    "\n",
    "matchResults = []\n",
    "matchPredictions = []\n",
    "\n",
    "for i in range(nrMatches):\n",
    "    match = games.iloc[i]\n",
    "    players= [match.Winner, match.Loser]\n",
    "    #if we dont have enough data about one of two players then we skip it\n",
    "    if players[0] not in playersList.values or players[1] not in playersList.values:\n",
    "        continue\n",
    "    \n",
    "    #here we will save probabilities that specific player will win\n",
    "    playersProbab = []\n",
    "    \n",
    "    for player in players:\n",
    "        \n",
    "        #at first we will create model for a specific player\n",
    "        playerModel = playerBuildModel(player, match.name)\n",
    "        #predict probability to win\n",
    "        prob = playerModel.predict_proba([])\n",
    "        #save probability to win\n",
    "        \n",
    "    \n",
    "    break"
   ]
  }
 ],
 "metadata": {
  "kernelspec": {
   "display_name": "Python [py3k]",
   "language": "python",
   "name": "Python [py3k]"
  },
  "language_info": {
   "codemirror_mode": {
    "name": "ipython",
    "version": 3
   },
   "file_extension": ".py",
   "mimetype": "text/x-python",
   "name": "python",
   "nbconvert_exporter": "python",
   "pygments_lexer": "ipython3",
   "version": "3.5.2"
  }
 },
 "nbformat": 4,
 "nbformat_minor": 0
}

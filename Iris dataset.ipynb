{
 "cells": [
  {
   "cell_type": "markdown",
   "metadata": {},
   "source": [
    "# Iris Dataset"
   ]
  },
  {
   "cell_type": "code",
   "execution_count": 1,
   "metadata": {
    "collapsed": false
   },
   "outputs": [
    {
     "data": {
      "application/javascript": [
       "IPython.OutputArea.auto_scroll_threshold = 9999;"
      ],
      "text/plain": [
       "<IPython.core.display.Javascript object>"
      ]
     },
     "metadata": {},
     "output_type": "display_data"
    }
   ],
   "source": [
    "%%javascript\n",
    "IPython.OutputArea.auto_scroll_threshold = 9999;"
   ]
  },
  {
   "cell_type": "markdown",
   "metadata": {},
   "source": [
    "## 1. Define the problem"
   ]
  },
  {
   "cell_type": "markdown",
   "metadata": {},
   "source": [
    "This is perhaps the best known database to be found in the pattern recognition literature. Fisher's paper is a classic in the field and is referenced frequently to this day. (See Duda & Hart, for example.) The data set contains 3 classes of 50 instances each, where each class refers to a type of iris plant. One class is linearly separable from the other 2; the latter are NOT linearly separable from each other. \n",
    "\n",
    "Predicted attribute: class of iris plant. \n",
    "\n",
    "This is an exceedingly simple domain. \n",
    "\n",
    "This data differs from the data presented in Fishers article (identified by Steve Chadwick, spchadwick '@' espeedaz.net ). The 35th sample should be: 4.9,3.1,1.5,0.2,\"Iris-setosa\" where the error is in the fourth feature. The 38th sample: 4.9,3.6,1.4,0.1,\"Iris-setosa\" where the errors are in the second and third features."
   ]
  },
  {
   "cell_type": "markdown",
   "metadata": {},
   "source": [
    "<img src=\"http://5047-presscdn.pagely.netdna-cdn.com/wp-content/uploads/2015/04/iris_petal_sepal.png\">"
   ]
  },
  {
   "cell_type": "markdown",
   "metadata": {},
   "source": [
    "## 2. Understanding and prepearing data"
   ]
  },
  {
   "cell_type": "markdown",
   "metadata": {},
   "source": [
    "### Loading Iris datset from sklearn"
   ]
  },
  {
   "cell_type": "code",
   "execution_count": 2,
   "metadata": {
    "collapsed": false
   },
   "outputs": [],
   "source": [
    "#importing pandas\n",
    "import pandas as pd"
   ]
  },
  {
   "cell_type": "code",
   "execution_count": 3,
   "metadata": {
    "collapsed": false
   },
   "outputs": [],
   "source": [
    "iris = pd.read_csv(\"Data/iris.data\", names=[\"sepal length\", \"sepal width\", \"petal length\", \"petal width\", \"Class\"])"
   ]
  },
  {
   "cell_type": "code",
   "execution_count": 4,
   "metadata": {
    "collapsed": false,
    "scrolled": true
   },
   "outputs": [
    {
     "data": {
      "text/html": [
       "<div>\n",
       "<table border=\"1\" class=\"dataframe\">\n",
       "  <thead>\n",
       "    <tr style=\"text-align: right;\">\n",
       "      <th></th>\n",
       "      <th>sepal length</th>\n",
       "      <th>sepal width</th>\n",
       "      <th>petal length</th>\n",
       "      <th>petal width</th>\n",
       "      <th>Class</th>\n",
       "    </tr>\n",
       "  </thead>\n",
       "  <tbody>\n",
       "    <tr>\n",
       "      <th>0</th>\n",
       "      <td>5.1</td>\n",
       "      <td>3.5</td>\n",
       "      <td>1.4</td>\n",
       "      <td>0.2</td>\n",
       "      <td>Iris-setosa</td>\n",
       "    </tr>\n",
       "    <tr>\n",
       "      <th>1</th>\n",
       "      <td>4.9</td>\n",
       "      <td>3.0</td>\n",
       "      <td>1.4</td>\n",
       "      <td>0.2</td>\n",
       "      <td>Iris-setosa</td>\n",
       "    </tr>\n",
       "    <tr>\n",
       "      <th>2</th>\n",
       "      <td>4.7</td>\n",
       "      <td>3.2</td>\n",
       "      <td>1.3</td>\n",
       "      <td>0.2</td>\n",
       "      <td>Iris-setosa</td>\n",
       "    </tr>\n",
       "    <tr>\n",
       "      <th>3</th>\n",
       "      <td>4.6</td>\n",
       "      <td>3.1</td>\n",
       "      <td>1.5</td>\n",
       "      <td>0.2</td>\n",
       "      <td>Iris-setosa</td>\n",
       "    </tr>\n",
       "    <tr>\n",
       "      <th>4</th>\n",
       "      <td>5.0</td>\n",
       "      <td>3.6</td>\n",
       "      <td>1.4</td>\n",
       "      <td>0.2</td>\n",
       "      <td>Iris-setosa</td>\n",
       "    </tr>\n",
       "  </tbody>\n",
       "</table>\n",
       "</div>"
      ],
      "text/plain": [
       "   sepal length  sepal width  petal length  petal width        Class\n",
       "0           5.1          3.5           1.4          0.2  Iris-setosa\n",
       "1           4.9          3.0           1.4          0.2  Iris-setosa\n",
       "2           4.7          3.2           1.3          0.2  Iris-setosa\n",
       "3           4.6          3.1           1.5          0.2  Iris-setosa\n",
       "4           5.0          3.6           1.4          0.2  Iris-setosa"
      ]
     },
     "execution_count": 4,
     "metadata": {},
     "output_type": "execute_result"
    }
   ],
   "source": [
    "iris.head()"
   ]
  },
  {
   "cell_type": "code",
   "execution_count": 5,
   "metadata": {
    "collapsed": false
   },
   "outputs": [
    {
     "data": {
      "text/html": [
       "<div>\n",
       "<table border=\"1\" class=\"dataframe\">\n",
       "  <thead>\n",
       "    <tr style=\"text-align: right;\">\n",
       "      <th></th>\n",
       "      <th>sepal length</th>\n",
       "      <th>sepal width</th>\n",
       "      <th>petal length</th>\n",
       "      <th>petal width</th>\n",
       "    </tr>\n",
       "  </thead>\n",
       "  <tbody>\n",
       "    <tr>\n",
       "      <th>count</th>\n",
       "      <td>150.000000</td>\n",
       "      <td>150.000000</td>\n",
       "      <td>150.000000</td>\n",
       "      <td>150.000000</td>\n",
       "    </tr>\n",
       "    <tr>\n",
       "      <th>mean</th>\n",
       "      <td>5.843333</td>\n",
       "      <td>3.054000</td>\n",
       "      <td>3.758667</td>\n",
       "      <td>1.198667</td>\n",
       "    </tr>\n",
       "    <tr>\n",
       "      <th>std</th>\n",
       "      <td>0.828066</td>\n",
       "      <td>0.433594</td>\n",
       "      <td>1.764420</td>\n",
       "      <td>0.763161</td>\n",
       "    </tr>\n",
       "    <tr>\n",
       "      <th>min</th>\n",
       "      <td>4.300000</td>\n",
       "      <td>2.000000</td>\n",
       "      <td>1.000000</td>\n",
       "      <td>0.100000</td>\n",
       "    </tr>\n",
       "    <tr>\n",
       "      <th>25%</th>\n",
       "      <td>5.100000</td>\n",
       "      <td>2.800000</td>\n",
       "      <td>1.600000</td>\n",
       "      <td>0.300000</td>\n",
       "    </tr>\n",
       "    <tr>\n",
       "      <th>50%</th>\n",
       "      <td>5.800000</td>\n",
       "      <td>3.000000</td>\n",
       "      <td>4.350000</td>\n",
       "      <td>1.300000</td>\n",
       "    </tr>\n",
       "    <tr>\n",
       "      <th>75%</th>\n",
       "      <td>6.400000</td>\n",
       "      <td>3.300000</td>\n",
       "      <td>5.100000</td>\n",
       "      <td>1.800000</td>\n",
       "    </tr>\n",
       "    <tr>\n",
       "      <th>max</th>\n",
       "      <td>7.900000</td>\n",
       "      <td>4.400000</td>\n",
       "      <td>6.900000</td>\n",
       "      <td>2.500000</td>\n",
       "    </tr>\n",
       "  </tbody>\n",
       "</table>\n",
       "</div>"
      ],
      "text/plain": [
       "       sepal length  sepal width  petal length  petal width\n",
       "count    150.000000   150.000000    150.000000   150.000000\n",
       "mean       5.843333     3.054000      3.758667     1.198667\n",
       "std        0.828066     0.433594      1.764420     0.763161\n",
       "min        4.300000     2.000000      1.000000     0.100000\n",
       "25%        5.100000     2.800000      1.600000     0.300000\n",
       "50%        5.800000     3.000000      4.350000     1.300000\n",
       "75%        6.400000     3.300000      5.100000     1.800000\n",
       "max        7.900000     4.400000      6.900000     2.500000"
      ]
     },
     "execution_count": 5,
     "metadata": {},
     "output_type": "execute_result"
    }
   ],
   "source": [
    "iris.describe()"
   ]
  },
  {
   "cell_type": "markdown",
   "metadata": {},
   "source": [
    "### Visualization"
   ]
  },
  {
   "cell_type": "code",
   "execution_count": 6,
   "metadata": {
    "collapsed": true
   },
   "outputs": [],
   "source": [
    "import seaborn as sns\n",
    "%matplotlib inline"
   ]
  },
  {
   "cell_type": "code",
   "execution_count": 7,
   "metadata": {
    "collapsed": false,
    "scrolled": true
   },
   "outputs": [
    {
     "data": {
      "text/plain": [
       "<seaborn.axisgrid.PairGrid at 0x7f83bfc11278>"
      ]
     },
     "execution_count": 7,
     "metadata": {},
     "output_type": "execute_result"
    },
    {
     "data": {
      "image/png": "[encoded data removed]",
      "text/plain": [
       "<matplotlib.figure.Figure at 0x7f83bfc11898>"
      ]
     },
     "metadata": {},
     "output_type": "display_data"
    }
   ],
   "source": [
    "sns.pairplot(iris, hue=\"Class\")"
   ]
  },
  {
   "cell_type": "markdown",
   "metadata": {},
   "source": [
    "### Preparing data"
   ]
  },
  {
   "cell_type": "code",
   "execution_count": 8,
   "metadata": {
    "collapsed": false
   },
   "outputs": [],
   "source": [
    "X = iris[[\"sepal length\", \"sepal width\", \"petal length\", \"petal width\"]]\n",
    "Y = iris[\"Class\"]"
   ]
  },
  {
   "cell_type": "markdown",
   "metadata": {},
   "source": [
    "## 3. Spot check algorithms"
   ]
  },
  {
   "cell_type": "markdown",
   "metadata": {},
   "source": [
    "### Cross validation"
   ]
  },
  {
   "cell_type": "code",
   "execution_count": 9,
   "metadata": {
    "collapsed": true
   },
   "outputs": [],
   "source": [
    "from sklearn.cross_validation import train_test_split, KFold\n",
    "import numpy as np"
   ]
  },
  {
   "cell_type": "code",
   "execution_count": 10,
   "metadata": {
    "collapsed": false
   },
   "outputs": [],
   "source": [
    "#cross validation\n",
    "#X_train, X_test, y_train, y_test = train_test_split(X, Y)\n",
    "#kfold\n",
    "kf = KFold(n_folds=10, n=Y.shape[0])"
   ]
  },
  {
   "cell_type": "markdown",
   "metadata": {},
   "source": [
    "### Benchmarking function"
   ]
  },
  {
   "cell_type": "code",
   "execution_count": 11,
   "metadata": {
    "collapsed": true
   },
   "outputs": [],
   "source": [
    "from time import time\n",
    "#kFold\n",
    "def spotCheckKFold(clf, name, kfold):\n",
    "    print('=' * 80)\n",
    "    print(name)\n",
    "    print('_' * 80)\n",
    "    print(\"Training: \")\n",
    "    print(clf)\n",
    "        \n",
    "    train_times =  []\n",
    "    test_times =  []\n",
    "    accuracies = []\n",
    "    \n",
    "    #kofol validation\n",
    "    for train_index, test_index in kfold:\n",
    "        #spliting dataset\n",
    "        X_train, X_test = X.iloc[train_index], X.iloc[test_index]\n",
    "        y_train, y_test = Y.iloc[train_index], Y.iloc[test_index]\n",
    "        \n",
    "        #training\n",
    "        t0 = time()\n",
    "        clf.fit(X_train, y_train)\n",
    "        train_times.append(time() - t0)\n",
    "        \n",
    "        #predicting\n",
    "        t0 = time()\n",
    "        pred = clf.predict(X_test)\n",
    "        test_times.append(time() - t0)\n",
    "        \n",
    "        #calculating accuracy\n",
    "        accuracies.append( metrics.accuracy_score(y_test, pred))\n",
    "        \n",
    "        \n",
    "        \n",
    "     \n",
    "    train_time = sum(train_times) / float(len(train_times))\n",
    "    print(\"train time: %0.3fs\" % train_time)\n",
    "   \n",
    "    test_time = sum(test_times) / float(len(test_times))\n",
    "    print(\"test time:  %0.3fs\" % test_time)\n",
    "\n",
    "    score = sum(accuracies) / float(len(accuracies))\n",
    "    print(\"accuracy:   %0.3f\" % score)\n",
    "        \n",
    "    print(\"confusion matrix:\")\n",
    "    print(metrics.confusion_matrix(y_test, pred))\n",
    "\n",
    "    print()\n",
    "    clf_descr = str(clf).split('(')[0]\n",
    "    \n",
    "    \n",
    "    return clf_descr, score, train_time, test_time, accuracies"
   ]
  },
  {
   "cell_type": "markdown",
   "metadata": {},
   "source": [
    "### Prepearing pipeline"
   ]
  },
  {
   "cell_type": "code",
   "execution_count": 12,
   "metadata": {
    "collapsed": false
   },
   "outputs": [],
   "source": [
    "from sklearn.linear_model import RidgeClassifier, LogisticRegression, PassiveAggressiveClassifier\n",
    "from sklearn.svm import SVC\n",
    "from sklearn.discriminant_analysis import LinearDiscriminantAnalysis, QuadraticDiscriminantAnalysis\n",
    "from sklearn.neighbors import KNeighborsClassifier\n",
    "from sklearn.ensemble import RandomForestClassifier, AdaBoostClassifier, ExtraTreesClassifier\n",
    "from sklearn.tree import DecisionTreeClassifier\n",
    "from sklearn.naive_bayes import GaussianNB, BernoulliNB, MultinomialNB\n",
    "from sklearn import metrics\n",
    "from sklearn.pipeline import Pipeline\n",
    "\n",
    "estimators = [\n",
    "        #Linear models\n",
    "        #(LogisticRegression(), \"Logistic Regression\"),\n",
    "        #(RidgeClassifier(tol=1e-2, solver=\"lsqr\"), \"Ridge Classifier\"),\n",
    "        (PassiveAggressiveClassifier(n_iter=50), \"Passive-Aggressive\"),\n",
    "        #SVM\n",
    "        (SVC(kernel=\"linear\", C=0.025), \"Linear SVM\"),\n",
    "        #LDA i QDA\n",
    "        (LinearDiscriminantAnalysis(), \"LDA\"),\n",
    "        (QuadraticDiscriminantAnalysis(), \"QDA\"),\n",
    "        #KNN\n",
    "        #(KNeighborsClassifier(n_neighbors=10), \"kNN 10\"),\n",
    "        (KNeighborsClassifier(n_neighbors=5), \"kNN 5\"),\n",
    "        (KNeighborsClassifier(n_neighbors=1), \"kNN 1\"),\n",
    "        #Tree based\n",
    "        (RandomForestClassifier(n_estimators=10), \"Random forest\"),\n",
    "        #(AdaBoostClassifier(DecisionTreeClassifier(max_depth=3),n_estimators=50), \"AdaBoost\"),\n",
    "        #(ExtraTreesClassifier(n_estimators=50), \"ExtraTree\"),\n",
    "        #Bayes\n",
    "        #(BernoulliNB(alpha=.01), \"BernoulliNB\"),\n",
    "        #(MultinomialNB(alpha=.01), \"MultinomialNB\"),\n",
    "        (GaussianNB(), \"Bayes\")\n",
    "]"
   ]
  },
  {
   "cell_type": "markdown",
   "metadata": {},
   "source": [
    "### Fitting classifieres"
   ]
  },
  {
   "cell_type": "code",
   "execution_count": 13,
   "metadata": {
    "collapsed": false,
    "scrolled": false
   },
   "outputs": [
    {
     "name": "stdout",
     "output_type": "stream",
     "text": [
      "================================================================================\n",
      "Passive-Aggressive\n",
      "________________________________________________________________________________\n",
      "Training: \n",
      "PassiveAggressiveClassifier(C=1.0, class_weight=None, fit_intercept=True,\n",
      "              loss='hinge', n_iter=50, n_jobs=1, random_state=None,\n",
      "              shuffle=True, verbose=0, warm_start=False)\n",
      "train time: 0.002s\n",
      "test time:  0.000s\n",
      "accuracy:   0.807\n",
      "confusion matrix:\n",
      "[[15]]\n",
      "\n",
      "================================================================================\n",
      "Linear SVM\n",
      "________________________________________________________________________________\n",
      "Training: \n",
      "SVC(C=0.025, cache_size=200, class_weight=None, coef0=0.0,\n",
      "  decision_function_shape=None, degree=3, gamma='auto', kernel='linear',\n",
      "  max_iter=-1, probability=False, random_state=None, shrinking=True,\n",
      "  tol=0.001, verbose=False)\n",
      "train time: 0.001s\n",
      "test time:  0.000s\n",
      "accuracy:   0.867\n",
      "confusion matrix:\n",
      "[[ 0  0]\n",
      " [ 4 11]]\n",
      "\n",
      "================================================================================\n",
      "LDA\n",
      "________________________________________________________________________________\n",
      "Training: \n",
      "LinearDiscriminantAnalysis(n_components=None, priors=None, shrinkage=None,\n",
      "              solver='svd', store_covariance=False, tol=0.0001)\n",
      "train time: 0.002s\n",
      "test time:  0.000s\n",
      "accuracy:   0.967\n",
      "confusion matrix:\n",
      "[[15]]\n",
      "\n",
      "================================================================================\n",
      "QDA\n",
      "________________________________________________________________________________\n",
      "Training: \n",
      "QuadraticDiscriminantAnalysis(priors=None, reg_param=0.0,\n",
      "               store_covariances=False, tol=0.0001)\n",
      "train time: 0.001s\n",
      "test time:  0.000s\n",
      "accuracy:   0.967\n",
      "confusion matrix:\n",
      "[[15]]\n",
      "\n",
      "================================================================================\n",
      "kNN 5\n",
      "________________________________________________________________________________\n",
      "Training: \n",
      "KNeighborsClassifier(algorithm='auto', leaf_size=30, metric='minkowski',\n",
      "           metric_params=None, n_jobs=1, n_neighbors=5, p=2,\n",
      "           weights='uniform')\n"
     ]
    },
    {
     "name": "stderr",
     "output_type": "stream",
     "text": [
      "/home/damian/opt/anaconda2/envs/py3k/lib/python3.5/site-packages/sklearn/discriminant_analysis.py:453: UserWarning: The priors do not sum to 1. Renormalizing\n",
      "  UserWarning)\n"
     ]
    },
    {
     "name": "stdout",
     "output_type": "stream",
     "text": [
      "train time: 0.001s\n",
      "test time:  0.001s\n",
      "accuracy:   0.933\n",
      "confusion matrix:\n",
      "[[15]]\n",
      "\n",
      "================================================================================\n",
      "kNN 1\n",
      "________________________________________________________________________________\n",
      "Training: \n",
      "KNeighborsClassifier(algorithm='auto', leaf_size=30, metric='minkowski',\n",
      "           metric_params=None, n_jobs=1, n_neighbors=1, p=2,\n",
      "           weights='uniform')\n",
      "train time: 0.001s\n",
      "test time:  0.001s\n",
      "accuracy:   0.960\n",
      "confusion matrix:\n",
      "[[15]]\n",
      "\n",
      "================================================================================\n",
      "Random forest\n",
      "________________________________________________________________________________\n",
      "Training: \n",
      "RandomForestClassifier(bootstrap=True, class_weight=None, criterion='gini',\n",
      "            max_depth=None, max_features='auto', max_leaf_nodes=None,\n",
      "            min_samples_leaf=1, min_samples_split=2,\n",
      "            min_weight_fraction_leaf=0.0, n_estimators=10, n_jobs=1,\n",
      "            oob_score=False, random_state=None, verbose=0,\n",
      "            warm_start=False)\n",
      "train time: 0.020s\n",
      "test time:  0.002s\n",
      "accuracy:   0.940\n",
      "confusion matrix:\n",
      "[[ 0  0]\n",
      " [ 1 14]]\n",
      "\n",
      "================================================================================\n",
      "Bayes\n",
      "________________________________________________________________________________\n",
      "Training: \n",
      "GaussianNB()\n",
      "train time: 0.001s\n",
      "test time:  0.000s\n",
      "accuracy:   0.947\n",
      "confusion matrix:\n",
      "[[15]]\n",
      "\n"
     ]
    }
   ],
   "source": [
    "results = []\n",
    "for clf, name in estimators:\n",
    "    results.append( spotCheckKFold(clf, name, kf) )"
   ]
  },
  {
   "cell_type": "markdown",
   "metadata": {},
   "source": [
    "### Visualtization results"
   ]
  },
  {
   "cell_type": "code",
   "execution_count": 14,
   "metadata": {
    "collapsed": true
   },
   "outputs": [],
   "source": [
    "#importing neccesary libraries\n",
    "import matplotlib.pyplot as plt"
   ]
  },
  {
   "cell_type": "markdown",
   "metadata": {},
   "source": [
    "#### Accuratcy box plot\n",
    "Box-plots are very useful for summarizing the distribution of accuracy results for each algorithm and dataset pair."
   ]
  },
  {
   "cell_type": "code",
   "execution_count": 15,
   "metadata": {
    "collapsed": false,
    "scrolled": true
   },
   "outputs": [
    {
     "data": {
      "text/html": [
       "<div>\n",
       "<table border=\"1\" class=\"dataframe\">\n",
       "  <thead>\n",
       "    <tr style=\"text-align: right;\">\n",
       "      <th></th>\n",
       "      <th>Passive-Aggressive</th>\n",
       "      <th>Linear SVM</th>\n",
       "      <th>LDA</th>\n",
       "      <th>QDA</th>\n",
       "      <th>kNN 5</th>\n",
       "      <th>kNN 1</th>\n",
       "      <th>Random forest</th>\n",
       "      <th>Bayes</th>\n",
       "    </tr>\n",
       "  </thead>\n",
       "  <tbody>\n",
       "    <tr>\n",
       "      <th>count</th>\n",
       "      <td>10.000000</td>\n",
       "      <td>10.000000</td>\n",
       "      <td>10.000000</td>\n",
       "      <td>10.000000</td>\n",
       "      <td>10.000000</td>\n",
       "      <td>10.000000</td>\n",
       "      <td>10.000000</td>\n",
       "      <td>10.000000</td>\n",
       "    </tr>\n",
       "    <tr>\n",
       "      <th>mean</th>\n",
       "      <td>0.806667</td>\n",
       "      <td>0.866667</td>\n",
       "      <td>0.966667</td>\n",
       "      <td>0.966667</td>\n",
       "      <td>0.933333</td>\n",
       "      <td>0.960000</td>\n",
       "      <td>0.940000</td>\n",
       "      <td>0.946667</td>\n",
       "    </tr>\n",
       "    <tr>\n",
       "      <th>std</th>\n",
       "      <td>0.246356</td>\n",
       "      <td>0.129577</td>\n",
       "      <td>0.064788</td>\n",
       "      <td>0.064788</td>\n",
       "      <td>0.088889</td>\n",
       "      <td>0.056218</td>\n",
       "      <td>0.073367</td>\n",
       "      <td>0.061262</td>\n",
       "    </tr>\n",
       "    <tr>\n",
       "      <th>min</th>\n",
       "      <td>0.266667</td>\n",
       "      <td>0.666667</td>\n",
       "      <td>0.800000</td>\n",
       "      <td>0.800000</td>\n",
       "      <td>0.800000</td>\n",
       "      <td>0.866667</td>\n",
       "      <td>0.800000</td>\n",
       "      <td>0.866667</td>\n",
       "    </tr>\n",
       "    <tr>\n",
       "      <th>25%</th>\n",
       "      <td>0.733333</td>\n",
       "      <td>0.750000</td>\n",
       "      <td>0.950000</td>\n",
       "      <td>0.950000</td>\n",
       "      <td>0.866667</td>\n",
       "      <td>0.933333</td>\n",
       "      <td>0.883333</td>\n",
       "      <td>0.883333</td>\n",
       "    </tr>\n",
       "    <tr>\n",
       "      <th>50%</th>\n",
       "      <td>0.900000</td>\n",
       "      <td>0.866667</td>\n",
       "      <td>1.000000</td>\n",
       "      <td>1.000000</td>\n",
       "      <td>1.000000</td>\n",
       "      <td>1.000000</td>\n",
       "      <td>0.966667</td>\n",
       "      <td>0.966667</td>\n",
       "    </tr>\n",
       "    <tr>\n",
       "      <th>75%</th>\n",
       "      <td>1.000000</td>\n",
       "      <td>1.000000</td>\n",
       "      <td>1.000000</td>\n",
       "      <td>1.000000</td>\n",
       "      <td>1.000000</td>\n",
       "      <td>1.000000</td>\n",
       "      <td>1.000000</td>\n",
       "      <td>1.000000</td>\n",
       "    </tr>\n",
       "    <tr>\n",
       "      <th>max</th>\n",
       "      <td>1.000000</td>\n",
       "      <td>1.000000</td>\n",
       "      <td>1.000000</td>\n",
       "      <td>1.000000</td>\n",
       "      <td>1.000000</td>\n",
       "      <td>1.000000</td>\n",
       "      <td>1.000000</td>\n",
       "      <td>1.000000</td>\n",
       "    </tr>\n",
       "  </tbody>\n",
       "</table>\n",
       "</div>"
      ],
      "text/plain": [
       "       Passive-Aggressive  Linear SVM        LDA        QDA      kNN 5  \\\n",
       "count           10.000000   10.000000  10.000000  10.000000  10.000000   \n",
       "mean             0.806667    0.866667   0.966667   0.966667   0.933333   \n",
       "std              0.246356    0.129577   0.064788   0.064788   0.088889   \n",
       "min              0.266667    0.666667   0.800000   0.800000   0.800000   \n",
       "25%              0.733333    0.750000   0.950000   0.950000   0.866667   \n",
       "50%              0.900000    0.866667   1.000000   1.000000   1.000000   \n",
       "75%              1.000000    1.000000   1.000000   1.000000   1.000000   \n",
       "max              1.000000    1.000000   1.000000   1.000000   1.000000   \n",
       "\n",
       "           kNN 1  Random forest      Bayes  \n",
       "count  10.000000      10.000000  10.000000  \n",
       "mean    0.960000       0.940000   0.946667  \n",
       "std     0.056218       0.073367   0.061262  \n",
       "min     0.866667       0.800000   0.866667  \n",
       "25%     0.933333       0.883333   0.883333  \n",
       "50%     1.000000       0.966667   0.966667  \n",
       "75%     1.000000       1.000000   1.000000  \n",
       "max     1.000000       1.000000   1.000000  "
      ]
     },
     "execution_count": 15,
     "metadata": {},
     "output_type": "execute_result"
    }
   ],
   "source": [
    "import seaborn as sns\n",
    "acc_table = [x[4] for x in results]\n",
    "acc = pd.DataFrame(acc_table).transpose()\n",
    "#classificators names\n",
    "est_names = [x[1] for x in estimators]\n",
    "acc.columns=est_names\n",
    "acc.describe()"
   ]
  },
  {
   "cell_type": "code",
   "execution_count": 16,
   "metadata": {
    "collapsed": false
   },
   "outputs": [
    {
     "data": {
      "text/html": [
       "<div>\n",
       "<table border=\"1\" class=\"dataframe\">\n",
       "  <thead>\n",
       "    <tr style=\"text-align: right;\">\n",
       "      <th></th>\n",
       "      <th>Passive-Aggressive</th>\n",
       "      <th>Linear SVM</th>\n",
       "      <th>LDA</th>\n",
       "      <th>QDA</th>\n",
       "      <th>kNN 5</th>\n",
       "      <th>kNN 1</th>\n",
       "      <th>Random forest</th>\n",
       "      <th>Bayes</th>\n",
       "    </tr>\n",
       "  </thead>\n",
       "  <tbody>\n",
       "    <tr>\n",
       "      <th>0</th>\n",
       "      <td>1.000000</td>\n",
       "      <td>1.000000</td>\n",
       "      <td>1.000000</td>\n",
       "      <td>1.000000</td>\n",
       "      <td>1.000000</td>\n",
       "      <td>1.000000</td>\n",
       "      <td>1.000000</td>\n",
       "      <td>1.000000</td>\n",
       "    </tr>\n",
       "    <tr>\n",
       "      <th>1</th>\n",
       "      <td>1.000000</td>\n",
       "      <td>1.000000</td>\n",
       "      <td>1.000000</td>\n",
       "      <td>1.000000</td>\n",
       "      <td>1.000000</td>\n",
       "      <td>1.000000</td>\n",
       "      <td>1.000000</td>\n",
       "      <td>1.000000</td>\n",
       "    </tr>\n",
       "    <tr>\n",
       "      <th>2</th>\n",
       "      <td>1.000000</td>\n",
       "      <td>1.000000</td>\n",
       "      <td>1.000000</td>\n",
       "      <td>1.000000</td>\n",
       "      <td>1.000000</td>\n",
       "      <td>1.000000</td>\n",
       "      <td>1.000000</td>\n",
       "      <td>1.000000</td>\n",
       "    </tr>\n",
       "    <tr>\n",
       "      <th>3</th>\n",
       "      <td>0.733333</td>\n",
       "      <td>0.866667</td>\n",
       "      <td>1.000000</td>\n",
       "      <td>1.000000</td>\n",
       "      <td>1.000000</td>\n",
       "      <td>1.000000</td>\n",
       "      <td>1.000000</td>\n",
       "      <td>0.933333</td>\n",
       "    </tr>\n",
       "    <tr>\n",
       "      <th>4</th>\n",
       "      <td>0.933333</td>\n",
       "      <td>0.866667</td>\n",
       "      <td>0.933333</td>\n",
       "      <td>0.800000</td>\n",
       "      <td>0.800000</td>\n",
       "      <td>0.866667</td>\n",
       "      <td>0.933333</td>\n",
       "      <td>0.933333</td>\n",
       "    </tr>\n",
       "    <tr>\n",
       "      <th>5</th>\n",
       "      <td>0.533333</td>\n",
       "      <td>0.733333</td>\n",
       "      <td>0.933333</td>\n",
       "      <td>0.933333</td>\n",
       "      <td>0.866667</td>\n",
       "      <td>0.933333</td>\n",
       "      <td>0.866667</td>\n",
       "      <td>0.866667</td>\n",
       "    </tr>\n",
       "    <tr>\n",
       "      <th>6</th>\n",
       "      <td>0.866667</td>\n",
       "      <td>1.000000</td>\n",
       "      <td>1.000000</td>\n",
       "      <td>1.000000</td>\n",
       "      <td>1.000000</td>\n",
       "      <td>1.000000</td>\n",
       "      <td>1.000000</td>\n",
       "      <td>1.000000</td>\n",
       "    </tr>\n",
       "    <tr>\n",
       "      <th>7</th>\n",
       "      <td>0.733333</td>\n",
       "      <td>0.800000</td>\n",
       "      <td>1.000000</td>\n",
       "      <td>1.000000</td>\n",
       "      <td>0.866667</td>\n",
       "      <td>0.866667</td>\n",
       "      <td>0.866667</td>\n",
       "      <td>0.866667</td>\n",
       "    </tr>\n",
       "    <tr>\n",
       "      <th>8</th>\n",
       "      <td>0.266667</td>\n",
       "      <td>0.666667</td>\n",
       "      <td>0.800000</td>\n",
       "      <td>0.933333</td>\n",
       "      <td>0.800000</td>\n",
       "      <td>0.933333</td>\n",
       "      <td>0.800000</td>\n",
       "      <td>0.866667</td>\n",
       "    </tr>\n",
       "    <tr>\n",
       "      <th>9</th>\n",
       "      <td>1.000000</td>\n",
       "      <td>0.733333</td>\n",
       "      <td>1.000000</td>\n",
       "      <td>1.000000</td>\n",
       "      <td>1.000000</td>\n",
       "      <td>1.000000</td>\n",
       "      <td>0.933333</td>\n",
       "      <td>1.000000</td>\n",
       "    </tr>\n",
       "  </tbody>\n",
       "</table>\n",
       "</div>"
      ],
      "text/plain": [
       "   Passive-Aggressive  Linear SVM       LDA       QDA     kNN 5     kNN 1  \\\n",
       "0            1.000000    1.000000  1.000000  1.000000  1.000000  1.000000   \n",
       "1            1.000000    1.000000  1.000000  1.000000  1.000000  1.000000   \n",
       "2            1.000000    1.000000  1.000000  1.000000  1.000000  1.000000   \n",
       "3            0.733333    0.866667  1.000000  1.000000  1.000000  1.000000   \n",
       "4            0.933333    0.866667  0.933333  0.800000  0.800000  0.866667   \n",
       "5            0.533333    0.733333  0.933333  0.933333  0.866667  0.933333   \n",
       "6            0.866667    1.000000  1.000000  1.000000  1.000000  1.000000   \n",
       "7            0.733333    0.800000  1.000000  1.000000  0.866667  0.866667   \n",
       "8            0.266667    0.666667  0.800000  0.933333  0.800000  0.933333   \n",
       "9            1.000000    0.733333  1.000000  1.000000  1.000000  1.000000   \n",
       "\n",
       "   Random forest     Bayes  \n",
       "0       1.000000  1.000000  \n",
       "1       1.000000  1.000000  \n",
       "2       1.000000  1.000000  \n",
       "3       1.000000  0.933333  \n",
       "4       0.933333  0.933333  \n",
       "5       0.866667  0.866667  \n",
       "6       1.000000  1.000000  \n",
       "7       0.866667  0.866667  \n",
       "8       0.800000  0.866667  \n",
       "9       0.933333  1.000000  "
      ]
     },
     "execution_count": 16,
     "metadata": {},
     "output_type": "execute_result"
    }
   ],
   "source": [
    "acc.head(15)"
   ]
  },
  {
   "cell_type": "code",
   "execution_count": 17,
   "metadata": {
    "collapsed": false,
    "scrolled": true
   },
   "outputs": [
    {
     "data": {
      "text/plain": [
       "<matplotlib.axes._subplots.AxesSubplot at 0x7f83a4add940>"
      ]
     },
     "execution_count": 17,
     "metadata": {},
     "output_type": "execute_result"
    },
    {
     "data": {
      "image/png": "[encoded data removed]",
      "text/plain": [
       "<matplotlib.figure.Figure at 0x7f83a46690b8>"
      ]
     },
     "metadata": {},
     "output_type": "display_data"
    }
   ],
   "source": [
    "a4_dims = (15, 10)\n",
    "fig, ax = plt.subplots(figsize=a4_dims)\n",
    "sns.boxplot(data=acc, orient=\"h\", ax=ax)"
   ]
  },
  {
   "cell_type": "markdown",
   "metadata": {},
   "source": [
    "#### Average training time visualization"
   ]
  },
  {
   "cell_type": "code",
   "execution_count": 18,
   "metadata": {
    "collapsed": false,
    "scrolled": false
   },
   "outputs": [
    {
     "data": {
      "image/png": "[encoded data removed]",
      "text/plain": [
       "<matplotlib.figure.Figure at 0x7f83a45d3630>"
      ]
     },
     "metadata": {},
     "output_type": "display_data"
    }
   ],
   "source": [
    "train_table = [x[2] for x in results]\n",
    "pl = sns.barplot(y=est_names, x=train_table,  orient=\"h\")"
   ]
  },
  {
   "cell_type": "markdown",
   "metadata": {},
   "source": [
    "#### Average test time visualization"
   ]
  },
  {
   "cell_type": "code",
   "execution_count": 19,
   "metadata": {
    "collapsed": false,
    "scrolled": true
   },
   "outputs": [
    {
     "data": {
      "text/plain": [
       "<matplotlib.axes._subplots.AxesSubplot at 0x7f83a41f4dd8>"
      ]
     },
     "execution_count": 19,
     "metadata": {},
     "output_type": "execute_result"
    },
    {
     "data": {
      "image/png": "[encoded data removed]",
      "text/plain": [
       "<matplotlib.figure.Figure at 0x7f83a4541a58>"
      ]
     },
     "metadata": {},
     "output_type": "display_data"
    }
   ],
   "source": [
    "test_table = [x[3] for x in results]\n",
    "sns.barplot(y=est_names, x=test_table,  orient=\"h\")"
   ]
  },
  {
   "cell_type": "markdown",
   "metadata": {},
   "source": [
    "#### Overview"
   ]
  },
  {
   "cell_type": "code",
   "execution_count": 20,
   "metadata": {
    "collapsed": false,
    "scrolled": true
   },
   "outputs": [
    {
     "data": {
      "image/png": "[encoded data removed]",
      "text/plain": [
       "<matplotlib.figure.Figure at 0x7f83a41d7828>"
      ]
     },
     "metadata": {},
     "output_type": "display_data"
    }
   ],
   "source": [
    "indices = np.arange(len(results))\n",
    "\n",
    "results2 = [[x[i] for x in results] for i in range(4)]\n",
    "\n",
    "clf_names, score, training_time, test_time = results2\n",
    "\n",
    "\n",
    "training_time = np.array(training_time) / np.max(training_time)\n",
    "test_time = np.array(test_time) / np.max(test_time)\n",
    "\n",
    "plt.figure(figsize=(16, 7))\n",
    "plt.title(\"Score\")\n",
    "plt.barh(indices, score, .2, label=\"score\", color='navy')\n",
    "plt.barh(indices + .3, training_time, .2, label=\"training time\",color='c')\n",
    "plt.barh(indices + .6, test_time, .2, label=\"test time\", color='darkorange')\n",
    "plt.yticks(())\n",
    "plt.legend(loc='best')\n",
    "plt.subplots_adjust(left=.25)\n",
    "plt.subplots_adjust(top=.95)\n",
    "plt.subplots_adjust(bottom=.05)\n",
    "\n",
    "\n",
    "for i, c in zip(indices, est_names):\n",
    "    plt.text(-.3, i, c)\n",
    "\n",
    "plt.show()"
   ]
  },
  {
   "cell_type": "markdown",
   "metadata": {},
   "source": [
    "## 4. Improve results"
   ]
  },
  {
   "cell_type": "markdown",
   "metadata": {},
   "source": [
    "Based on previous point, I choose LDA algorithm. Firstly I will try skrinkage."
   ]
  },
  {
   "cell_type": "markdown",
   "metadata": {},
   "source": [
    "### Shrinkage"
   ]
  },
  {
   "cell_type": "code",
   "execution_count": 21,
   "metadata": {
    "collapsed": false,
    "scrolled": true
   },
   "outputs": [
    {
     "name": "stdout",
     "output_type": "stream",
     "text": [
      "================================================================================\n",
      "Bayes\n",
      "________________________________________________________________________________\n",
      "Training: \n",
      "LinearDiscriminantAnalysis(n_components=None, priors=None, shrinkage=0.0,\n",
      "              solver='lsqr', store_covariance=False, tol=0.0001)\n",
      "train time: 0.002s\n",
      "test time:  0.000s\n",
      "accuracy:   0.967\n",
      "confusion matrix:\n",
      "[[15]]\n",
      "\n",
      "================================================================================\n",
      "Bayes\n",
      "________________________________________________________________________________\n",
      "Training: \n",
      "LinearDiscriminantAnalysis(n_components=None, priors=None, shrinkage=0.01,\n",
      "              solver='lsqr', store_covariance=False, tol=0.0001)\n",
      "train time: 0.003s\n",
      "test time:  0.000s\n",
      "accuracy:   0.967\n",
      "confusion matrix:\n",
      "[[15]]\n",
      "\n",
      "================================================================================\n",
      "Bayes\n",
      "________________________________________________________________________________\n",
      "Training: \n",
      "LinearDiscriminantAnalysis(n_components=None, priors=None, shrinkage=0.02,\n",
      "              solver='lsqr', store_covariance=False, tol=0.0001)\n",
      "train time: 0.003s\n",
      "test time:  0.000s\n",
      "accuracy:   0.980\n",
      "confusion matrix:\n",
      "[[15]]\n",
      "\n",
      "================================================================================\n",
      "Bayes\n",
      "________________________________________________________________________________\n",
      "Training: \n",
      "LinearDiscriminantAnalysis(n_components=None, priors=None,\n",
      "              shrinkage=0.029999999999999999, solver='lsqr',\n",
      "              store_covariance=False, tol=0.0001)\n"
     ]
    },
    {
     "name": "stderr",
     "output_type": "stream",
     "text": [
      "/home/damian/opt/anaconda2/envs/py3k/lib/python3.5/site-packages/sklearn/discriminant_analysis.py:453: UserWarning: The priors do not sum to 1. Renormalizing\n",
      "  UserWarning)\n",
      "/home/damian/opt/anaconda2/envs/py3k/lib/python3.5/site-packages/sklearn/discriminant_analysis.py:453: UserWarning: The priors do not sum to 1. Renormalizing\n",
      "  UserWarning)\n",
      "/home/damian/opt/anaconda2/envs/py3k/lib/python3.5/site-packages/sklearn/discriminant_analysis.py:453: UserWarning: The priors do not sum to 1. Renormalizing\n",
      "  UserWarning)\n",
      "/home/damian/opt/anaconda2/envs/py3k/lib/python3.5/site-packages/sklearn/discriminant_analysis.py:453: UserWarning: The priors do not sum to 1. Renormalizing\n",
      "  UserWarning)\n"
     ]
    },
    {
     "name": "stdout",
     "output_type": "stream",
     "text": [
      "train time: 0.003s\n",
      "test time:  0.000s\n",
      "accuracy:   0.980\n",
      "confusion matrix:\n",
      "[[15]]\n",
      "\n",
      "================================================================================\n",
      "Bayes\n",
      "________________________________________________________________________________\n",
      "Training: \n",
      "LinearDiscriminantAnalysis(n_components=None, priors=None,\n",
      "              shrinkage=0.040000000000000001, solver='lsqr',\n",
      "              store_covariance=False, tol=0.0001)\n",
      "train time: 0.002s\n",
      "test time:  0.000s\n",
      "accuracy:   0.980\n",
      "confusion matrix:\n",
      "[[15]]\n",
      "\n",
      "================================================================================\n",
      "Bayes\n",
      "________________________________________________________________________________\n",
      "Training: \n",
      "LinearDiscriminantAnalysis(n_components=None, priors=None,\n",
      "              shrinkage=0.050000000000000003, solver='lsqr',\n",
      "              store_covariance=False, tol=0.0001)\n",
      "train time: 0.002s\n",
      "test time:  0.000s\n",
      "accuracy:   0.980\n",
      "confusion matrix:\n",
      "[[15]]\n",
      "\n",
      "================================================================================\n",
      "Bayes\n",
      "________________________________________________________________________________\n",
      "Training: \n",
      "LinearDiscriminantAnalysis(n_components=None, priors=None,\n",
      "              shrinkage=0.059999999999999998, solver='lsqr',\n",
      "              store_covariance=False, tol=0.0001)\n",
      "train time: 0.002s\n",
      "test time:  0.000s\n",
      "accuracy:   0.980\n",
      "confusion matrix:\n",
      "[[15]]\n",
      "\n",
      "================================================================================\n",
      "Bayes\n",
      "________________________________________________________________________________\n",
      "Training: \n",
      "LinearDiscriminantAnalysis(n_components=None, priors=None,\n",
      "              shrinkage=0.070000000000000007, solver='lsqr',\n",
      "              store_covariance=False, tol=0.0001)\n",
      "train time: 0.002s\n",
      "test time:  0.000s\n",
      "accuracy:   0.980\n",
      "confusion matrix:\n",
      "[[15]]\n",
      "\n",
      "================================================================================\n",
      "Bayes\n",
      "________________________________________________________________________________\n",
      "Training: \n",
      "LinearDiscriminantAnalysis(n_components=None, priors=None,\n",
      "              shrinkage=0.080000000000000002, solver='lsqr',\n",
      "              store_covariance=False, tol=0.0001)\n"
     ]
    },
    {
     "name": "stderr",
     "output_type": "stream",
     "text": [
      "/home/damian/opt/anaconda2/envs/py3k/lib/python3.5/site-packages/sklearn/discriminant_analysis.py:453: UserWarning: The priors do not sum to 1. Renormalizing\n",
      "  UserWarning)\n",
      "/home/damian/opt/anaconda2/envs/py3k/lib/python3.5/site-packages/sklearn/discriminant_analysis.py:453: UserWarning: The priors do not sum to 1. Renormalizing\n",
      "  UserWarning)\n",
      "/home/damian/opt/anaconda2/envs/py3k/lib/python3.5/site-packages/sklearn/discriminant_analysis.py:453: UserWarning: The priors do not sum to 1. Renormalizing\n",
      "  UserWarning)\n",
      "/home/damian/opt/anaconda2/envs/py3k/lib/python3.5/site-packages/sklearn/discriminant_analysis.py:453: UserWarning: The priors do not sum to 1. Renormalizing\n",
      "  UserWarning)\n",
      "/home/damian/opt/anaconda2/envs/py3k/lib/python3.5/site-packages/sklearn/discriminant_analysis.py:453: UserWarning: The priors do not sum to 1. Renormalizing\n",
      "  UserWarning)\n"
     ]
    },
    {
     "name": "stdout",
     "output_type": "stream",
     "text": [
      "train time: 0.002s\n",
      "test time:  0.000s\n",
      "accuracy:   0.980\n",
      "confusion matrix:\n",
      "[[15]]\n",
      "\n",
      "================================================================================\n",
      "Bayes\n",
      "________________________________________________________________________________\n",
      "Training: \n",
      "LinearDiscriminantAnalysis(n_components=None, priors=None,\n",
      "              shrinkage=0.089999999999999997, solver='lsqr',\n",
      "              store_covariance=False, tol=0.0001)\n",
      "train time: 0.002s\n",
      "test time:  0.000s\n",
      "accuracy:   0.980\n",
      "confusion matrix:\n",
      "[[15]]\n",
      "\n",
      "================================================================================\n",
      "Bayes\n",
      "________________________________________________________________________________\n",
      "Training: \n",
      "LinearDiscriminantAnalysis(n_components=None, priors=None,\n",
      "              shrinkage=0.10000000000000001, solver='lsqr',\n",
      "              store_covariance=False, tol=0.0001)\n",
      "train time: 0.002s\n",
      "test time:  0.000s\n",
      "accuracy:   0.980\n",
      "confusion matrix:\n",
      "[[15]]\n",
      "\n",
      "================================================================================\n",
      "Bayes\n",
      "________________________________________________________________________________\n",
      "Training: \n",
      "LinearDiscriminantAnalysis(n_components=None, priors=None, shrinkage=0.11,\n",
      "              solver='lsqr', store_covariance=False, tol=0.0001)\n",
      "train time: 0.002s\n",
      "test time:  0.000s\n",
      "accuracy:   0.980\n",
      "confusion matrix:\n",
      "[[15]]\n",
      "\n",
      "================================================================================\n",
      "Bayes\n",
      "________________________________________________________________________________\n",
      "Training: \n",
      "LinearDiscriminantAnalysis(n_components=None, priors=None, shrinkage=0.12,\n",
      "              solver='lsqr', store_covariance=False, tol=0.0001)\n",
      "train time: 0.002s\n",
      "test time:  0.000s\n",
      "accuracy:   0.973\n",
      "confusion matrix:\n",
      "[[15]]\n",
      "\n",
      "================================================================================\n",
      "Bayes\n",
      "________________________________________________________________________________\n",
      "Training: \n",
      "LinearDiscriminantAnalysis(n_components=None, priors=None, shrinkage=0.13,\n",
      "              solver='lsqr', store_covariance=False, tol=0.0001)\n"
     ]
    },
    {
     "name": "stderr",
     "output_type": "stream",
     "text": [
      "/home/damian/opt/anaconda2/envs/py3k/lib/python3.5/site-packages/sklearn/discriminant_analysis.py:453: UserWarning: The priors do not sum to 1. Renormalizing\n",
      "  UserWarning)\n",
      "/home/damian/opt/anaconda2/envs/py3k/lib/python3.5/site-packages/sklearn/discriminant_analysis.py:453: UserWarning: The priors do not sum to 1. Renormalizing\n",
      "  UserWarning)\n",
      "/home/damian/opt/anaconda2/envs/py3k/lib/python3.5/site-packages/sklearn/discriminant_analysis.py:453: UserWarning: The priors do not sum to 1. Renormalizing\n",
      "  UserWarning)\n",
      "/home/damian/opt/anaconda2/envs/py3k/lib/python3.5/site-packages/sklearn/discriminant_analysis.py:453: UserWarning: The priors do not sum to 1. Renormalizing\n",
      "  UserWarning)\n",
      "/home/damian/opt/anaconda2/envs/py3k/lib/python3.5/site-packages/sklearn/discriminant_analysis.py:453: UserWarning: The priors do not sum to 1. Renormalizing\n",
      "  UserWarning)\n"
     ]
    },
    {
     "name": "stdout",
     "output_type": "stream",
     "text": [
      "train time: 0.002s\n",
      "test time:  0.000s\n",
      "accuracy:   0.973\n",
      "confusion matrix:\n",
      "[[15]]\n",
      "\n",
      "================================================================================\n",
      "Bayes\n",
      "________________________________________________________________________________\n",
      "Training: \n",
      "LinearDiscriminantAnalysis(n_components=None, priors=None,\n",
      "              shrinkage=0.14000000000000001, solver='lsqr',\n",
      "              store_covariance=False, tol=0.0001)\n",
      "train time: 0.002s\n",
      "test time:  0.000s\n",
      "accuracy:   0.973\n",
      "confusion matrix:\n",
      "[[15]]\n",
      "\n",
      "================================================================================\n",
      "Bayes\n",
      "________________________________________________________________________________\n",
      "Training: \n",
      "LinearDiscriminantAnalysis(n_components=None, priors=None,\n",
      "              shrinkage=0.14999999999999999, solver='lsqr',\n",
      "              store_covariance=False, tol=0.0001)\n",
      "train time: 0.002s\n",
      "test time:  0.000s\n",
      "accuracy:   0.967\n",
      "confusion matrix:\n",
      "[[15]]\n",
      "\n",
      "================================================================================\n",
      "Bayes\n",
      "________________________________________________________________________________\n",
      "Training: \n",
      "LinearDiscriminantAnalysis(n_components=None, priors=None, shrinkage=0.16,\n",
      "              solver='lsqr', store_covariance=False, tol=0.0001)\n",
      "train time: 0.002s\n",
      "test time:  0.000s\n",
      "accuracy:   0.967\n",
      "confusion matrix:\n",
      "[[15]]\n",
      "\n",
      "================================================================================\n",
      "Bayes\n",
      "________________________________________________________________________________\n",
      "Training: \n",
      "LinearDiscriminantAnalysis(n_components=None, priors=None,\n",
      "              shrinkage=0.17000000000000001, solver='lsqr',\n",
      "              store_covariance=False, tol=0.0001)\n",
      "train time: 0.002s\n",
      "test time:  0.000s\n",
      "accuracy:   0.967\n",
      "confusion matrix:\n",
      "[[15]]\n",
      "\n",
      "================================================================================\n",
      "Bayes\n",
      "________________________________________________________________________________\n",
      "Training: \n",
      "LinearDiscriminantAnalysis(n_components=None, priors=None,\n",
      "              shrinkage=0.17999999999999999, solver='lsqr',\n",
      "              store_covariance=False, tol=0.0001)\n"
     ]
    },
    {
     "name": "stderr",
     "output_type": "stream",
     "text": [
      "/home/damian/opt/anaconda2/envs/py3k/lib/python3.5/site-packages/sklearn/discriminant_analysis.py:453: UserWarning: The priors do not sum to 1. Renormalizing\n",
      "  UserWarning)\n",
      "/home/damian/opt/anaconda2/envs/py3k/lib/python3.5/site-packages/sklearn/discriminant_analysis.py:453: UserWarning: The priors do not sum to 1. Renormalizing\n",
      "  UserWarning)\n",
      "/home/damian/opt/anaconda2/envs/py3k/lib/python3.5/site-packages/sklearn/discriminant_analysis.py:453: UserWarning: The priors do not sum to 1. Renormalizing\n",
      "  UserWarning)\n",
      "/home/damian/opt/anaconda2/envs/py3k/lib/python3.5/site-packages/sklearn/discriminant_analysis.py:453: UserWarning: The priors do not sum to 1. Renormalizing\n",
      "  UserWarning)\n",
      "/home/damian/opt/anaconda2/envs/py3k/lib/python3.5/site-packages/sklearn/discriminant_analysis.py:453: UserWarning: The priors do not sum to 1. Renormalizing\n",
      "  UserWarning)\n"
     ]
    },
    {
     "name": "stdout",
     "output_type": "stream",
     "text": [
      "train time: 0.002s\n",
      "test time:  0.000s\n",
      "accuracy:   0.960\n",
      "confusion matrix:\n",
      "[[ 0  0]\n",
      " [ 1 14]]\n",
      "\n",
      "================================================================================\n",
      "Bayes\n",
      "________________________________________________________________________________\n",
      "Training: \n",
      "LinearDiscriminantAnalysis(n_components=None, priors=None, shrinkage=0.19,\n",
      "              solver='lsqr', store_covariance=False, tol=0.0001)\n",
      "train time: 0.002s\n",
      "test time:  0.000s\n",
      "accuracy:   0.960\n",
      "confusion matrix:\n",
      "[[ 0  0]\n",
      " [ 1 14]]\n",
      "\n"
     ]
    },
    {
     "name": "stderr",
     "output_type": "stream",
     "text": [
      "/home/damian/opt/anaconda2/envs/py3k/lib/python3.5/site-packages/sklearn/discriminant_analysis.py:453: UserWarning: The priors do not sum to 1. Renormalizing\n",
      "  UserWarning)\n"
     ]
    }
   ],
   "source": [
    "#shrinkage values\n",
    "shrink = np.arange(0,0.2,0.01)\n",
    "\n",
    "res = []\n",
    "for i in shrink:\n",
    "    res.append( spotCheckKFold(LinearDiscriminantAnalysis(solver='lsqr', shrinkage=i), name, kf) )"
   ]
  },
  {
   "cell_type": "code",
   "execution_count": 22,
   "metadata": {
    "collapsed": false,
    "scrolled": true
   },
   "outputs": [
    {
     "data": {
      "text/plain": [
       "[<matplotlib.text.Text at 0x7f83a449ecc0>,\n",
       " <matplotlib.text.Text at 0x7f83a4427e10>]"
      ]
     },
     "execution_count": 22,
     "metadata": {},
     "output_type": "execute_result"
    },
    {
     "data": {
      "image/png": "[encoded data removed]",
      "text/plain": [
       "<matplotlib.figure.Figure at 0x7f83a44a2a90>"
      ]
     },
     "metadata": {},
     "output_type": "display_data"
    }
   ],
   "source": [
    "#accuracy scores in results\n",
    "scores = [x[1] for x in res]\n",
    "#plotting accuracy\n",
    "a4_dims = (10, 5)\n",
    "fig, ax = plt.subplots(figsize=a4_dims)\n",
    "p = sns.pointplot(x=shrink, y=scores, ax=ax)\n",
    "p.set(xlabel='Shrinkage', ylabel='Accuracy')"
   ]
  },
  {
   "cell_type": "markdown",
   "metadata": {},
   "source": [
    "<br/>Optimal classifier: <b>LDA</b> <br/>\n",
    "Optimal solver: <b>'lsqr'</b><br/>\n",
    "Optimal shrinkage: <b>0.07</b>\n",
    "<br/>\n",
    "Best average accuracy i 10-fold test: <b>0.98</b>\n",
    "<br/><br/>"
   ]
  },
  {
   "cell_type": "markdown",
   "metadata": {},
   "source": [
    "## 5. Final model"
   ]
  },
  {
   "cell_type": "code",
   "execution_count": 23,
   "metadata": {
    "collapsed": false
   },
   "outputs": [
    {
     "name": "stdout",
     "output_type": "stream",
     "text": [
      "0.98\n"
     ]
    }
   ],
   "source": [
    "clf = LinearDiscriminantAnalysis(solver='lsqr', shrinkage=0.07)\n",
    "clf.fit(X, Y)\n",
    "print(clf.score(X,Y))"
   ]
  }
 ],
 "metadata": {
  "kernelspec": {
   "display_name": "Python [py3k]",
   "language": "python",
   "name": "Python [py3k]"
  },
  "language_info": {
   "codemirror_mode": {
    "name": "ipython",
    "version": 3
   },
   "file_extension": ".py",
   "mimetype": "text/x-python",
   "name": "python",
   "nbconvert_exporter": "python",
   "pygments_lexer": "ipython3",
   "version": "3.5.2"
  }
 },
 "nbformat": 4,
 "nbformat_minor": 0
}
